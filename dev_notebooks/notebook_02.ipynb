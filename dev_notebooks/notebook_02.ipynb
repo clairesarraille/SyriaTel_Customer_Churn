{
 "cells": [
  {
   "cell_type": "markdown",
   "metadata": {},
   "source": [
    "# TO DO"
   ]
  },
  {
   "cell_type": "markdown",
   "metadata": {},
   "source": [
    "- To Do:\n",
    "  - \"ROC AUC and Precision-Recall AUC provide scores that summarize the curves and can be used to compare classifiers.\" https://machinelearningmastery.com/roc-curves-and-precision-recall-curves-for-imbalanced-classification/\n",
    "  - \"We've established that our \"accuracy\" score is now a more meaningful score used for validation of a given model, but \"recall, precision, and F-statistic\" may be better indicators of whether the model is doing a \"good job\"\n",
    "  - Make sure you have everything in checklist\n",
    "    - README uses notebook, slideshow uses README\n",
    "  - Justify gridsearch parameters!!!!!!!!!! \n",
    "    - https://saturncloud.io/blog/how-to-optimize-logistic-regression-with-gridsearchcv-in-pythons-scikitlearn/\n",
    "    - What do we start with in terms of a list of parameters to search?\n",
    "  - Goodness of fit:\n",
    "    - Something like this:\n",
    "    - Split Number  1\n",
    "      Accuracy= 0.9454545454545454\n",
    "      Precision= 0.94375\n",
    "      Recall= 1.0\n",
    "\n",
    "      Split Number  2\n",
    "      Accuracy= 0.9757575757575757\n",
    "      Precision= 0.9753086419753086\n",
    "      Recall= 1.0\n",
    "\n",
    "      Split Number  3\n",
    "      Accuracy= 0.9695121951219512\n",
    "      Precision= 0.9691358024691358\n",
    "      Recall= 1.0  \n",
    "\n",
    "- Although overfitting is a useful tool for analysis, it must not be confused with model selection.\n",
    "  - https://machinelearningmastery.com/overfitting-machine-learning-models/\n",
    "- To determine overfitting/underfitting, could use learning curves: \n",
    "  - https://towardsdatascience.com/learning-curve-to-identify-overfitting-underfitting-problems-133177f38df5\n",
    "  - https://machinelearningmastery.com/learning-curves-for-diagnosing-machine-learning-model-performance/\n",
    "\n",
    "Hyperparameters:\n",
    "  - AUC/ROC: Adjusting this threshold will help reduce false negatives (lecture #40)\n",
    "  - The true- and false-positive rates will change if we make adjustments to the threshold. In fact, in the present case that was the whole point of making the adjustment: We want to minimize our false negatives.\n",
    "\n",
    "- Log-Loss:\n",
    "  - Add one more model to improve upon log-loss?\n",
    "  - Yes, log loss can be used to compare models! https://hyperskill.org/learn/step/15760\n",
    "\n",
    "- Why SMOTE:\n",
    "  - We use SMOTE because we are very concerned with mislabeling the minority class (churned) as the majority class (has not churned)\n",
    "  - If we accidently commit a false negative , then we lose out on business and we lose out on a chance to see WHY that customer churned. It matters less if we mislabel those who have not churned(0) as those who will churn (1), because we'd like to be on the safe side to incentivize a customer to stay even if they're already happy.\n",
    "  - Why use log loss? Models with lower loss values generate probability estimates that are closer to the true values, and thus are likely to perform better on many metrics."
   ]
  },
  {
   "cell_type": "markdown",
   "metadata": {},
   "source": [
    "# Business Understanding"
   ]
  },
  {
   "cell_type": "markdown",
   "metadata": {},
   "source": [
    "### Stakeholders:\n",
    "My stakeholders are the Customer Retention Analytics (CRA) team at a telecoms company \"SyriaTel\" where I'm a lead datascientist. The CRA team takes a data-driven approach to enhancing customer satisfaction and decreasing churn (when a customer leaves a business). I'm on a team within a centralized datascience and engineering organization. We support various satellite analytics teams including CRA, who distill our datasets further into business metrics, interactive dashboards, and slide deck presentations. The CRA team supports the greater customer retention org, which then implements changes to our incentives program. \n",
    "\n",
    "### Problem and Objective:\n",
    "We lack the ability to identify customers when they're on the cusp of churning. The objective of this project is to predict likely churners. Our dataset includes 20 variables describing over 3,000 current and churned customers. Achieving this predictive ability will allow us to examine the data on a rolling basis and quickly implement targeted incentivization.\n",
    "\n",
    "### Methodology:\n",
    "- We use a predictive logistic regression model rather than multiple linear regression because our target variable is categorical rather than numerical and continuous. The modeling process allows us to iteratively guide how the model \"learns\" about our data to improve the accuracy of its predictions. While using a machine learning model isn't \"better\" than simpler methods of getting at our problem such as SQL analysis, visualizations or EDA, we're focusing on a predictive modeling approach for now. We justify this prioritization because the sooner our CRA team has a customer list for targeted incentivizing, the better. Customer Retention can offer upgrades to those customers and prevent lost business before it occurs.\n",
    "- This buys us some time while we take a deeper dive into data cleaning, EDA, and inferential modeling. Those methods will complement our predictive model and help to fine-tune it by shedding light on the actual relationships between the data and to what extent a given variable is impacting churn. This way, our retention efforts will become more specific and strategic. Our aim is to strike a balance between preventing lost business and wasting money on extravagant incentives.\n",
    "\n",
    "### Summary:\n",
    "This project's methodology isn't geared towards identifying the specific variables causing churn and to what degree. However, the predicitve modeling approach is a sensible first step: we are swiftly preventing lost business as we take a deeper dive into the razor-precise correlations and causations of churn."
   ]
  },
  {
   "cell_type": "markdown",
   "metadata": {},
   "source": [
    "# Data Understanding\n",
    "\n",
    "### Data Source\n",
    "### Data Suitability\n"
   ]
  },
  {
   "cell_type": "markdown",
   "metadata": {},
   "source": [
    "## Get Data and Import Libraries:"
   ]
  },
  {
   "cell_type": "code",
   "execution_count": 58,
   "metadata": {},
   "outputs": [],
   "source": [
    "# Import Required Python Libraries:\n",
    "import pandas as pd\n",
    "import numpy as np\n",
    "import math\n",
    "\n",
    "import matplotlib.pyplot as plt\n",
    "import seaborn as sns\n",
    "from seaborn import stripplot\n",
    "%matplotlib inline\n",
    "\n",
    "from sklearn.preprocessing import OneHotEncoder, StandardScaler, PolynomialFeatures\n",
    "\n",
    "from sklearn.dummy import DummyClassifier\n",
    "from sklearn.linear_model import LogisticRegression, Ridge\n",
    "from sklearn.pipeline import Pipeline\n",
    "from sklearn.compose import ColumnTransformer, make_column_selector as selector\n",
    "\n",
    "from sklearn.model_selection import train_test_split, cross_val_score, cross_validate, GridSearchCV\n",
    "from sklearn.feature_selection import SelectFromModel\n",
    "\n",
    "from sklearn.metrics import plot_confusion_matrix\n",
    "from sklearn.metrics import confusion_matrix\n",
    "from sklearn.metrics import plot_roc_curve\n",
    "\n",
    "from imblearn.over_sampling import SMOTE\n",
    "from imblearn.pipeline import Pipeline as ImPipeline\n",
    "\n",
    "# Hides warnings\n",
    "import warnings\n",
    "from pandas.core.common import SettingWithCopyWarning\n",
    "warnings.simplefilter(action=\"ignore\", category=SettingWithCopyWarning)"
   ]
  },
  {
   "cell_type": "code",
   "execution_count": 59,
   "metadata": {},
   "outputs": [],
   "source": [
    "# Import Data:\n",
    "df = pd.read_csv('./data.csv')"
   ]
  },
  {
   "cell_type": "markdown",
   "metadata": {},
   "source": [
    "\n",
    "| Variable | Definition | Key/Notes |\n",
    "| -------- | -------- | -------- |  \n",
    "| churn | Has customer ceased doing business with SyriaTel | False = has not churned, True = has churned \n",
    "| state | US State | Categorical number that must be one-hot-encoded. NOT ordinal.|\n",
    "| account length | Smaller number (length) indicates older account | |\n",
    "| area code | Phone number area code | |\n",
    "| phone number | Phone number | |\n",
    "| international plan | Customer has intl. plan | 'yes', 'no'(note: although categorical, this is already \"one hot encoded\" because it is binary) |\n",
    "| voice mail plan | Customer has voice mail plan | 'yes', 'no'(see above)|\n",
    "| number **vmail** messages | Total voice mail messages customer has left | | |\n",
    "|\n",
    "| total **day** minutes | Total daytime *minutes*\n",
    "| total **day** calls | Total daytime *calls*\n",
    "| total **day** charge | Total daytime *charges*\n",
    "|\n",
    "| total **eve** minutes | Total evening *minutes*\n",
    "| total **eve** calls | Total evening *calls*\n",
    "| total **eve** charge | Total evening *charges*\n",
    "|\n",
    "| total **night** minutes | Total nighttime *minutes*\n",
    "| total **night** calls | Total nighttime *calls*\n",
    "| total **night** charge | Total nighttime *charges*\n",
    "|\n",
    "| total **intl** minutes | Total international *minutes* | Includes daytime, evening, and nighttime\n",
    "| total **intl** calls | Total international *calls*| Includes daytime, evening, and nighttime\n",
    "| total **intl** charge | Total international *charges* | Includes daytime, evening, and nighttime\n",
    "|\n",
    "| **customer service** calls | Total customer services *calls* placed by customer |"
   ]
  },
  {
   "cell_type": "markdown",
   "metadata": {},
   "source": [
    "# Define Modeling Class ModelWithCV()\n",
    "- Adapted from Flatiron School's Phase03, Lecture #42, \"Workflow with Pipelines\"\n",
    "- This class inputs a model and outputs a crossvalidation score based on training data + visualizations\n",
    "- I'm going to add `log_loss` to the cross validation results because it's analogous to Root-mean squared error, which looks at average of difference between the predicted probabilities (from logistic regression) of how far off our predicted class is from an individual's actual class is.\n",
    "- It's basically a overall measure of how well the model is doing.\n",
    "- For interpreting `log_loss`, the smaller the value, the better."
   ]
  },
  {
   "cell_type": "code",
   "execution_count": 63,
   "metadata": {},
   "outputs": [],
   "source": [
    "class ModelWithCV():\n",
    "    '''Structure to save the model and more easily see its crossvalidation'''\n",
    "    \n",
    "    def __init__(self, model, model_name, X, y, cv_now=True):\n",
    "        self.model = model\n",
    "        self.name = model_name\n",
    "        self.X = X\n",
    "        self.y = y\n",
    "        # For CV results\n",
    "        self.cv_results = None\n",
    "        self.cv_mean = None\n",
    "        self.cv_median = None\n",
    "        self.cv_std = None\n",
    "        #\n",
    "        if cv_now:\n",
    "            self.cross_validate()\n",
    "        \n",
    "    def cross_validate(self, X=None, y=None, kfolds=10):\n",
    "        '''\n",
    "        Perform cross-validation and return results.\n",
    "        \n",
    "        Args: \n",
    "          X:\n",
    "            Optional; Training data to perform CV on. Otherwise use X from object\n",
    "          y:\n",
    "            Optional; Training data to perform CV on. Otherwise use y from object\n",
    "          kfolds:\n",
    "            Optional; Number of folds for CV (default is 10)  \n",
    "        '''\n",
    "        \n",
    "        cv_X = X if X else self.X\n",
    "        cv_y = y if y else self.y\n",
    "\n",
    "        self.cv_results = cross_val_score(self.model, cv_X, cv_y, cv=kfolds)\n",
    "        self.cv_mean = np.mean(self.cv_results)\n",
    "        self.cv_median = np.median(self.cv_results)\n",
    "        self.cv_std = np.std(self.cv_results)\n",
    "\n",
    "        # Claire Sarraille: Added log_loss for list of results:\n",
    "        self.cv_neg_log_loss = cross_val_score(self.model, cv_X, cv_y, scoring =\"neg_log_loss\")\n",
    "        self.cv_log_loss = -(self.cv_neg_log_loss.mean())\n",
    "\n",
    "        # To-Do: Claire Sarraille: Added precision, recall, and F-Measure:\n",
    "   \n",
    "    def print_cv_summary(self):\n",
    "        cv_summary = (\n",
    "        f'''CV Results for `{self.name}` model:\n",
    "            Accuracy: {self.cv_mean:.5f} ± {self.cv_std:.5f}\n",
    "            Log Loss: {self.cv_log_loss:.5f}\n",
    "            10-fold Cross Validation Scores: {self.cv_results}\n",
    "        ''')\n",
    "        print(cv_summary)\n",
    "\n",
    "        \n",
    "    def plot_cv(self, ax):\n",
    "        '''\n",
    "        Plot the cross-validation values using the array of results and given \n",
    "        Axis for plotting.\n",
    "        '''\n",
    "        ax.set_title(f'CV Results for `{self.name}` Model')\n",
    "        # Claire Sarraille: Customized plot for cv results\n",
    "        sns.boxplot(self.cv_results, ax=ax)\n",
    "\n",
    "        return ax"
   ]
  },
  {
   "cell_type": "markdown",
   "metadata": {},
   "source": [
    "# Initial EDA\n",
    "- Explore variables\n",
    "- Nulls? \n",
    "- Categorical, binary, or numerical?"
   ]
  },
  {
   "cell_type": "markdown",
   "metadata": {},
   "source": [
    "## To do: What we getting out of this"
   ]
  },
  {
   "cell_type": "code",
   "execution_count": 64,
   "metadata": {},
   "outputs": [
    {
     "data": {
      "text/plain": [
       "international plan\n",
       "no     3010\n",
       "yes     323\n",
       "dtype: int64"
      ]
     },
     "execution_count": 64,
     "metadata": {},
     "output_type": "execute_result"
    }
   ],
   "source": [
    "df.value_counts('international plan')"
   ]
  },
  {
   "cell_type": "code",
   "execution_count": 65,
   "metadata": {},
   "outputs": [
    {
     "data": {
      "text/plain": [
       "voice mail plan\n",
       "no     2411\n",
       "yes     922\n",
       "dtype: int64"
      ]
     },
     "execution_count": 65,
     "metadata": {},
     "output_type": "execute_result"
    }
   ],
   "source": [
    "df.value_counts('voice mail plan')"
   ]
  },
  {
   "cell_type": "code",
   "execution_count": 66,
   "metadata": {},
   "outputs": [
    {
     "data": {
      "text/plain": [
       "account length\n",
       "105    43\n",
       "87     42\n",
       "101    40\n",
       "93     40\n",
       "90     39\n",
       "       ..\n",
       "199     1\n",
       "191     1\n",
       "188     1\n",
       "175     1\n",
       "243     1\n",
       "Length: 212, dtype: int64"
      ]
     },
     "execution_count": 66,
     "metadata": {},
     "output_type": "execute_result"
    }
   ],
   "source": [
    "df.value_counts('account length')"
   ]
  },
  {
   "cell_type": "code",
   "execution_count": 67,
   "metadata": {},
   "outputs": [
    {
     "name": "stdout",
     "output_type": "stream",
     "text": [
      "<class 'pandas.core.frame.DataFrame'>\n",
      "RangeIndex: 3333 entries, 0 to 3332\n",
      "Data columns (total 21 columns):\n",
      " #   Column                  Non-Null Count  Dtype  \n",
      "---  ------                  --------------  -----  \n",
      " 0   state                   3333 non-null   object \n",
      " 1   account length          3333 non-null   int64  \n",
      " 2   area code               3333 non-null   int64  \n",
      " 3   phone number            3333 non-null   object \n",
      " 4   international plan      3333 non-null   object \n",
      " 5   voice mail plan         3333 non-null   object \n",
      " 6   number vmail messages   3333 non-null   int64  \n",
      " 7   total day minutes       3333 non-null   float64\n",
      " 8   total day calls         3333 non-null   int64  \n",
      " 9   total day charge        3333 non-null   float64\n",
      " 10  total eve minutes       3333 non-null   float64\n",
      " 11  total eve calls         3333 non-null   int64  \n",
      " 12  total eve charge        3333 non-null   float64\n",
      " 13  total night minutes     3333 non-null   float64\n",
      " 14  total night calls       3333 non-null   int64  \n",
      " 15  total night charge      3333 non-null   float64\n",
      " 16  total intl minutes      3333 non-null   float64\n",
      " 17  total intl calls        3333 non-null   int64  \n",
      " 18  total intl charge       3333 non-null   float64\n",
      " 19  customer service calls  3333 non-null   int64  \n",
      " 20  churn                   3333 non-null   bool   \n",
      "dtypes: bool(1), float64(8), int64(8), object(4)\n",
      "memory usage: 524.2+ KB\n"
     ]
    }
   ],
   "source": [
    "df.info()"
   ]
  },
  {
   "cell_type": "markdown",
   "metadata": {},
   "source": [
    "## Thoughts on Data (Consider the business problem when choosing features)\n",
    "- Area codes (and by associate phone numbers) and State do not match (415 is not an area code in Kansas)\n",
    "- \"State\" may be a useful geographical feature to consider, but lots of people live in states that don't match their phone #'s area code, so area code isn't a reliable indicator of location.\n",
    "- There are no nulls\n",
    "- Categorical Variables (besides target which is Churn)\n",
    "- ## Numeric vs. Categorical:\n",
    "  - Is it numeric or categorical?\n",
    "    - As \"Is an increase of 2 in this variable twice as much as an increase of 1?\"\n",
    "  - State\n",
    "- These are boolean value columns - so they don't need to be one-hot-encoded, just converted from yes/no to 1/0\n",
    "  - international plan\n",
    "  - voice mail plan\n",
    "- Ordinal values -- there are none\n",
    "- To Drop:\n",
    "  -   Area Code (because an increase of 1 does'nt mean twice as many)\n",
    "  -   Phone number (because an increase of 1 does'nt mean twice as many)\n",
    "- Calls vs. Minutes\n",
    "  - The more calls doesn't necessarily mean more minutes, so we will keep calls and minutes (they are not redundant)"
   ]
  },
  {
   "cell_type": "markdown",
   "metadata": {},
   "source": [
    "# Data Cleaning"
   ]
  },
  {
   "cell_type": "code",
   "execution_count": 68,
   "metadata": {},
   "outputs": [],
   "source": [
    "# Convert yes/no values to 0/1:\n",
    "df['international plan'] = df['international plan'].replace(to_replace=['no', 'yes'], value=[0, 1])\n",
    "df['voice mail plan'] = df['voice mail plan'].replace(to_replace=['no', 'yes'], value=[0, 1])"
   ]
  },
  {
   "cell_type": "code",
   "execution_count": 69,
   "metadata": {},
   "outputs": [],
   "source": [
    "# Convert target variable from True/False to 1/0\n",
    "# Prior convention: False = has not churned, True = has churned \n",
    "# We will convert to this convention: 0 = False, 1 = True\n",
    "df['churn'] = df['churn'].replace(to_replace=[False, True], value=[0, 1])"
   ]
  },
  {
   "cell_type": "code",
   "execution_count": 70,
   "metadata": {},
   "outputs": [
    {
     "data": {
      "text/plain": [
       "state\n",
       "WV    106\n",
       "MN     84\n",
       "NY     83\n",
       "AL     80\n",
       "OH     78\n",
       "WI     78\n",
       "OR     78\n",
       "WY     77\n",
       "VA     77\n",
       "CT     74\n",
       "VT     73\n",
       "MI     73\n",
       "ID     73\n",
       "UT     72\n",
       "TX     72\n",
       "IN     71\n",
       "KS     70\n",
       "MD     70\n",
       "NJ     68\n",
       "NC     68\n",
       "MT     68\n",
       "NV     66\n",
       "CO     66\n",
       "WA     66\n",
       "MA     65\n",
       "MS     65\n",
       "RI     65\n",
       "AZ     64\n",
       "MO     63\n",
       "FL     63\n",
       "ME     62\n",
       "NM     62\n",
       "ND     62\n",
       "NE     61\n",
       "DE     61\n",
       "OK     61\n",
       "SC     60\n",
       "SD     60\n",
       "KY     59\n",
       "IL     58\n",
       "NH     56\n",
       "AR     55\n",
       "GA     54\n",
       "DC     54\n",
       "HI     53\n",
       "TN     53\n",
       "AK     52\n",
       "LA     51\n",
       "PA     45\n",
       "IA     44\n",
       "CA     34\n",
       "dtype: int64"
      ]
     },
     "execution_count": 70,
     "metadata": {},
     "output_type": "execute_result"
    }
   ],
   "source": [
    "df.value_counts('state')"
   ]
  },
  {
   "cell_type": "markdown",
   "metadata": {},
   "source": [
    "## Check if target is imbalanced or not:"
   ]
  },
  {
   "cell_type": "code",
   "execution_count": 71,
   "metadata": {},
   "outputs": [
    {
     "data": {
      "text/plain": [
       "churn\n",
       "0    2850\n",
       "1     483\n",
       "dtype: int64"
      ]
     },
     "execution_count": 71,
     "metadata": {},
     "output_type": "execute_result"
    }
   ],
   "source": [
    "# We have an imbalanced dataset skewed towards False\n",
    "df.value_counts('churn')"
   ]
  },
  {
   "cell_type": "markdown",
   "metadata": {},
   "source": [
    "# Train Test Split"
   ]
  },
  {
   "cell_type": "code",
   "execution_count": 72,
   "metadata": {},
   "outputs": [
    {
     "data": {
      "text/html": [
       "<div>\n",
       "<style scoped>\n",
       "    .dataframe tbody tr th:only-of-type {\n",
       "        vertical-align: middle;\n",
       "    }\n",
       "\n",
       "    .dataframe tbody tr th {\n",
       "        vertical-align: top;\n",
       "    }\n",
       "\n",
       "    .dataframe thead th {\n",
       "        text-align: right;\n",
       "    }\n",
       "</style>\n",
       "<table border=\"1\" class=\"dataframe\">\n",
       "  <thead>\n",
       "    <tr style=\"text-align: right;\">\n",
       "      <th></th>\n",
       "      <th>state</th>\n",
       "      <th>account length</th>\n",
       "      <th>international plan</th>\n",
       "      <th>voice mail plan</th>\n",
       "      <th>number vmail messages</th>\n",
       "      <th>total day minutes</th>\n",
       "      <th>total day calls</th>\n",
       "      <th>total day charge</th>\n",
       "      <th>total eve minutes</th>\n",
       "      <th>total eve calls</th>\n",
       "      <th>total eve charge</th>\n",
       "      <th>total night minutes</th>\n",
       "      <th>total night calls</th>\n",
       "      <th>total night charge</th>\n",
       "      <th>total intl minutes</th>\n",
       "      <th>total intl calls</th>\n",
       "      <th>total intl charge</th>\n",
       "      <th>customer service calls</th>\n",
       "    </tr>\n",
       "  </thead>\n",
       "  <tbody>\n",
       "    <tr>\n",
       "      <th>0</th>\n",
       "      <td>KS</td>\n",
       "      <td>128</td>\n",
       "      <td>0</td>\n",
       "      <td>1</td>\n",
       "      <td>25</td>\n",
       "      <td>265.1</td>\n",
       "      <td>110</td>\n",
       "      <td>45.07</td>\n",
       "      <td>197.4</td>\n",
       "      <td>99</td>\n",
       "      <td>16.78</td>\n",
       "      <td>244.7</td>\n",
       "      <td>91</td>\n",
       "      <td>11.01</td>\n",
       "      <td>10.0</td>\n",
       "      <td>3</td>\n",
       "      <td>2.70</td>\n",
       "      <td>1</td>\n",
       "    </tr>\n",
       "    <tr>\n",
       "      <th>1</th>\n",
       "      <td>OH</td>\n",
       "      <td>107</td>\n",
       "      <td>0</td>\n",
       "      <td>1</td>\n",
       "      <td>26</td>\n",
       "      <td>161.6</td>\n",
       "      <td>123</td>\n",
       "      <td>27.47</td>\n",
       "      <td>195.5</td>\n",
       "      <td>103</td>\n",
       "      <td>16.62</td>\n",
       "      <td>254.4</td>\n",
       "      <td>103</td>\n",
       "      <td>11.45</td>\n",
       "      <td>13.7</td>\n",
       "      <td>3</td>\n",
       "      <td>3.70</td>\n",
       "      <td>1</td>\n",
       "    </tr>\n",
       "    <tr>\n",
       "      <th>2</th>\n",
       "      <td>NJ</td>\n",
       "      <td>137</td>\n",
       "      <td>0</td>\n",
       "      <td>0</td>\n",
       "      <td>0</td>\n",
       "      <td>243.4</td>\n",
       "      <td>114</td>\n",
       "      <td>41.38</td>\n",
       "      <td>121.2</td>\n",
       "      <td>110</td>\n",
       "      <td>10.30</td>\n",
       "      <td>162.6</td>\n",
       "      <td>104</td>\n",
       "      <td>7.32</td>\n",
       "      <td>12.2</td>\n",
       "      <td>5</td>\n",
       "      <td>3.29</td>\n",
       "      <td>0</td>\n",
       "    </tr>\n",
       "    <tr>\n",
       "      <th>3</th>\n",
       "      <td>OH</td>\n",
       "      <td>84</td>\n",
       "      <td>1</td>\n",
       "      <td>0</td>\n",
       "      <td>0</td>\n",
       "      <td>299.4</td>\n",
       "      <td>71</td>\n",
       "      <td>50.90</td>\n",
       "      <td>61.9</td>\n",
       "      <td>88</td>\n",
       "      <td>5.26</td>\n",
       "      <td>196.9</td>\n",
       "      <td>89</td>\n",
       "      <td>8.86</td>\n",
       "      <td>6.6</td>\n",
       "      <td>7</td>\n",
       "      <td>1.78</td>\n",
       "      <td>2</td>\n",
       "    </tr>\n",
       "    <tr>\n",
       "      <th>4</th>\n",
       "      <td>OK</td>\n",
       "      <td>75</td>\n",
       "      <td>1</td>\n",
       "      <td>0</td>\n",
       "      <td>0</td>\n",
       "      <td>166.7</td>\n",
       "      <td>113</td>\n",
       "      <td>28.34</td>\n",
       "      <td>148.3</td>\n",
       "      <td>122</td>\n",
       "      <td>12.61</td>\n",
       "      <td>186.9</td>\n",
       "      <td>121</td>\n",
       "      <td>8.41</td>\n",
       "      <td>10.1</td>\n",
       "      <td>3</td>\n",
       "      <td>2.73</td>\n",
       "      <td>3</td>\n",
       "    </tr>\n",
       "  </tbody>\n",
       "</table>\n",
       "</div>"
      ],
      "text/plain": [
       "  state  account length  international plan  voice mail plan  \\\n",
       "0    KS             128                   0                1   \n",
       "1    OH             107                   0                1   \n",
       "2    NJ             137                   0                0   \n",
       "3    OH              84                   1                0   \n",
       "4    OK              75                   1                0   \n",
       "\n",
       "   number vmail messages  total day minutes  total day calls  \\\n",
       "0                     25              265.1              110   \n",
       "1                     26              161.6              123   \n",
       "2                      0              243.4              114   \n",
       "3                      0              299.4               71   \n",
       "4                      0              166.7              113   \n",
       "\n",
       "   total day charge  total eve minutes  total eve calls  total eve charge  \\\n",
       "0             45.07              197.4               99             16.78   \n",
       "1             27.47              195.5              103             16.62   \n",
       "2             41.38              121.2              110             10.30   \n",
       "3             50.90               61.9               88              5.26   \n",
       "4             28.34              148.3              122             12.61   \n",
       "\n",
       "   total night minutes  total night calls  total night charge  \\\n",
       "0                244.7                 91               11.01   \n",
       "1                254.4                103               11.45   \n",
       "2                162.6                104                7.32   \n",
       "3                196.9                 89                8.86   \n",
       "4                186.9                121                8.41   \n",
       "\n",
       "   total intl minutes  total intl calls  total intl charge  \\\n",
       "0                10.0                 3               2.70   \n",
       "1                13.7                 3               3.70   \n",
       "2                12.2                 5               3.29   \n",
       "3                 6.6                 7               1.78   \n",
       "4                10.1                 3               2.73   \n",
       "\n",
       "   customer service calls  \n",
       "0                       1  \n",
       "1                       1  \n",
       "2                       0  \n",
       "3                       2  \n",
       "4                       3  "
      ]
     },
     "execution_count": 72,
     "metadata": {},
     "output_type": "execute_result"
    }
   ],
   "source": [
    "# Create X (predictors) and y (target) variables:\n",
    "# Here we'll drop area code and phone number while we're at it:\n",
    "X = df.drop(['area code', 'phone number','churn'], axis = 1).reset_index(drop=True)\n",
    "y = df.churn.reset_index(drop=True)\n",
    "\n",
    "# Split Data into train and test:\n",
    "X_train, X_test, y_train, y_test = train_test_split(X,y, random_state=666)\n",
    "\n",
    "# Preview top 10:\n",
    "X.head()"
   ]
  },
  {
   "cell_type": "code",
   "execution_count": 73,
   "metadata": {},
   "outputs": [
    {
     "name": "stdout",
     "output_type": "stream",
     "text": [
      "<class 'pandas.core.frame.DataFrame'>\n",
      "Int64Index: 2499 entries, 1777 to 2284\n",
      "Data columns (total 18 columns):\n",
      " #   Column                  Non-Null Count  Dtype  \n",
      "---  ------                  --------------  -----  \n",
      " 0   state                   2499 non-null   object \n",
      " 1   account length          2499 non-null   int64  \n",
      " 2   international plan      2499 non-null   int64  \n",
      " 3   voice mail plan         2499 non-null   int64  \n",
      " 4   number vmail messages   2499 non-null   int64  \n",
      " 5   total day minutes       2499 non-null   float64\n",
      " 6   total day calls         2499 non-null   int64  \n",
      " 7   total day charge        2499 non-null   float64\n",
      " 8   total eve minutes       2499 non-null   float64\n",
      " 9   total eve calls         2499 non-null   int64  \n",
      " 10  total eve charge        2499 non-null   float64\n",
      " 11  total night minutes     2499 non-null   float64\n",
      " 12  total night calls       2499 non-null   int64  \n",
      " 13  total night charge      2499 non-null   float64\n",
      " 14  total intl minutes      2499 non-null   float64\n",
      " 15  total intl calls        2499 non-null   int64  \n",
      " 16  total intl charge       2499 non-null   float64\n",
      " 17  customer service calls  2499 non-null   int64  \n",
      "dtypes: float64(8), int64(9), object(1)\n",
      "memory usage: 370.9+ KB\n"
     ]
    }
   ],
   "source": [
    "X_train.info()"
   ]
  },
  {
   "cell_type": "markdown",
   "metadata": {},
   "source": [
    "# Pipeline Set-Up"
   ]
  },
  {
   "cell_type": "code",
   "execution_count": 74,
   "metadata": {},
   "outputs": [],
   "source": [
    "# Define predictor features as list of numerical and list of categorical:\n",
    "\n",
    "# List of numerical features:\n",
    "numfeat = ['account length', 'number vmail messages', 'total day minutes', 'total day calls', 'total day charge', 'total eve minutes', 'total eve calls', 'total eve charge', 'total night minutes', 'total night calls', 'total night charge', 'total intl minutes', 'total intl calls', 'total intl charge', 'customer service calls']\n",
    "\n",
    "# List of categorical features:\n",
    "catfeat = ['state']\n",
    "\n",
    "# Our boolean features are ['international plan', 'voice mail plan']\n",
    "# Boolean features don't need to be scaled, so we will use \"remainder='passthrough'\"\n",
    "# To indicate to compiler to let them through pipeline without transformations."
   ]
  },
  {
   "cell_type": "code",
   "execution_count": 75,
   "metadata": {},
   "outputs": [],
   "source": [
    "# Pipeline for numerics:\n",
    "\n",
    "\n",
    "# scale\n",
    "\n",
    "numpipe = Pipeline([\n",
    "    ('ss', StandardScaler())\n",
    "])\n"
   ]
  },
  {
   "cell_type": "code",
   "execution_count": 76,
   "metadata": {},
   "outputs": [],
   "source": [
    "# Pipeline for categoricals:\n",
    "\n",
    "\n",
    "# one-hot-encoder\n",
    "\n",
    "catpipe = Pipeline([\n",
    "    ('ohe', OneHotEncoder(sparse=False, handle_unknown='ignore')) # Using handle_unknown param en lieu of stratify during train-test-split\n",
    "])"
   ]
  },
  {
   "cell_type": "code",
   "execution_count": 77,
   "metadata": {},
   "outputs": [],
   "source": [
    "# Pipeline for binaries:\n",
    "\n",
    "# impute nulls\n",
    "\n",
    "# binpipe = Pipeline([\n",
    "#    ('binimp', SimpleImputer(strategy='most_frequent'))\n",
    "#])"
   ]
  },
  {
   "cell_type": "markdown",
   "metadata": {},
   "source": [
    "## We now have our numeric and categorical pipelines.\n",
    "- Since we don't have any nulls, and binary features don't need to be transformed or one-hot-encoded,\n",
    "- Our binary features don't have to be in a pipeline object\n",
    "- Next step is to handle columns holistically with `ColumnTransformer`"
   ]
  },
  {
   "cell_type": "code",
   "execution_count": 78,
   "metadata": {},
   "outputs": [],
   "source": [
    "# We will use our pipeline objects as transformer argument for ColumnTransformer\n",
    "# \"Pipeline\" has inherited a number of classes from our transforms (??)\n",
    "# We don't need to do any transformations to the binary feature columns, so we use the 'passthrough'\n",
    "# Argument to let them through without transformation.\n",
    "\n",
    "# our transformer is a tuple and includes a columns argument\n",
    "\n",
    "ColTrans = ColumnTransformer(transformers=[\n",
    "    ('numerics', numpipe, numfeat),\n",
    "    ('categoricals', catpipe, catfeat)\n",
    "], remainder='passthrough')"
   ]
  },
  {
   "cell_type": "markdown",
   "metadata": {},
   "source": [
    "# Dummy Model\n",
    "- For our dummy model, the only variables we are excluding are \"area code\" and \"phone number\" because we've determined these columns don't contain information that signifies geographical location or any other information that would correlate to churn."
   ]
  },
  {
   "cell_type": "code",
   "execution_count": 79,
   "metadata": {},
   "outputs": [],
   "source": [
    "# Create Dummy Model Pipeline\n",
    "\n",
    "dumpipe = Pipeline([\n",
    "    ('ct', ColTrans),\n",
    "    ('dummy', DummyClassifier(strategy='most_frequent'))\n",
    "])"
   ]
  },
  {
   "cell_type": "code",
   "execution_count": null,
   "metadata": {},
   "outputs": [],
   "source": []
  },
  {
   "cell_type": "code",
   "execution_count": 80,
   "metadata": {},
   "outputs": [
    {
     "data": {
      "text/plain": [
       "Pipeline(steps=[('ct',\n",
       "                 ColumnTransformer(remainder='passthrough',\n",
       "                                   transformers=[('numerics',\n",
       "                                                  Pipeline(steps=[('ss',\n",
       "                                                                   StandardScaler())]),\n",
       "                                                  ['account length',\n",
       "                                                   'number vmail messages',\n",
       "                                                   'total day minutes',\n",
       "                                                   'total day calls',\n",
       "                                                   'total day charge',\n",
       "                                                   'total eve minutes',\n",
       "                                                   'total eve calls',\n",
       "                                                   'total eve charge',\n",
       "                                                   'total night minutes',\n",
       "                                                   'total night calls',\n",
       "                                                   'total night charge',\n",
       "                                                   'total intl minutes',\n",
       "                                                   'total intl calls',\n",
       "                                                   'total intl charge',\n",
       "                                                   'customer service calls']),\n",
       "                                                 ('categoricals',\n",
       "                                                  Pipeline(steps=[('ohe',\n",
       "                                                                   OneHotEncoder(handle_unknown='ignore',\n",
       "                                                                                 sparse=False))]),\n",
       "                                                  ['state'])])),\n",
       "                ('dummy', DummyClassifier(strategy='most_frequent'))])"
      ]
     },
     "execution_count": 80,
     "metadata": {},
     "output_type": "execute_result"
    }
   ],
   "source": [
    "# Fit the dummy regressor to the training data:\n",
    "\n",
    "dumpipe.fit(X_train, y_train)"
   ]
  },
  {
   "cell_type": "markdown",
   "metadata": {},
   "source": [
    "## Output Mean Accuracy Score and Confusion Matrices for dummy model:"
   ]
  },
  {
   "cell_type": "code",
   "execution_count": 81,
   "metadata": {},
   "outputs": [],
   "source": [
    "# Get the score (predicts the likelihood of getting the majority class \n",
    "# by simply dividing majority/total positive class in training set: [2132/[2132 + 367]])\n",
    "# Goal is for our next model to do better than this!\n"
   ]
  },
  {
   "cell_type": "code",
   "execution_count": 82,
   "metadata": {},
   "outputs": [
    {
     "name": "stdout",
     "output_type": "stream",
     "text": [
      "Dummy model TRAIN Mean Accuracy score: 0.85314\n",
      "Dummy Model Log Loss: 0.85314\n",
      "\n",
      "Target value counts\n",
      "0    2132\n",
      "1     367\n",
      "Name: churn, dtype: int64\n"
     ]
    },
    {
     "data": {
      "image/png": "[encoded data removed]",
      "text/plain": [
       "<Figure size 432x288 with 2 Axes>"
      ]
     },
     "metadata": {
      "needs_background": "light"
     },
     "output_type": "display_data"
    }
   ],
   "source": [
    "# Training Data Confusion Matrix:\n",
    "\n",
    "fig, ax = plt.subplots()\n",
    "\n",
    "fig.suptitle(\"Dummy Model\")\n",
    "\n",
    "plot_confusion_matrix(dumpipe, X_train, y_train, ax=ax, cmap=\"plasma\");\n",
    "\n",
    "print(f'Dummy model TRAIN Mean Accuracy score: {dumpipe.score(X_train, y_train):.5f}')\n",
    "print(f'Dummy Model Log Loss: {dumpipe.score(X_train, y_train):.5f}')\n",
    "print()\n",
    "print('Target value counts')\n",
    "print(y_train.value_counts())\n",
    "\n",
    "\n",
    "# self.cv_neg_log_loss = cross_val_score(self.model, cv_X, cv_y, scoring =\"neg_log_loss\")\n",
    "# self.cv_log_loss = -(self.cv_neg_log_loss.mean())"
   ]
  },
  {
   "cell_type": "markdown",
   "metadata": {},
   "source": [
    "## Using Cross-Validation for model validation on \"unseen\" data rather than test dataset:"
   ]
  },
  {
   "cell_type": "code",
   "execution_count": 83,
   "metadata": {},
   "outputs": [],
   "source": [
    "# Now let's instantiate a dummy pipeline model and fit via inheritance from the ModelWithCV class:\n",
    "dum_pipe_cv = ModelWithCV(\n",
    "    dumpipe,\n",
    "    model_name='dummy',\n",
    "    X=X_train,\n",
    "    y=y_train,\n",
    ")"
   ]
  },
  {
   "cell_type": "code",
   "execution_count": 84,
   "metadata": {},
   "outputs": [
    {
     "name": "stdout",
     "output_type": "stream",
     "text": [
      "CV Results for `dummy` model:\n",
      "            Accuracy: 0.85314 ± 0.00175\n",
      "            Log Loss: 5.07231\n",
      "            10-fold Cross Validation Scores: [0.852      0.852      0.852      0.852      0.852      0.852\n",
      " 0.852      0.856      0.856      0.85542169]\n",
      "        \n"
     ]
    },
    {
     "name": "stderr",
     "output_type": "stream",
     "text": [
      "/Users/claire/anaconda3/envs/learn-env/lib/python3.8/site-packages/seaborn/_decorators.py:36: FutureWarning: Pass the following variable as a keyword arg: x. From version 0.12, the only valid positional argument will be `data`, and passing other arguments without an explicit keyword will result in an error or misinterpretation.\n",
      "  warnings.warn(\n"
     ]
    },
    {
     "data": {
      "text/plain": [
       "<AxesSubplot:title={'center':'CV Results for `dummy` Model'}>"
      ]
     },
     "execution_count": 84,
     "metadata": {},
     "output_type": "execute_result"
    },
    {
     "data": {
      "image/png": "[encoded data removed]",
      "text/plain": [
       "<Figure size 432x288 with 1 Axes>"
      ]
     },
     "metadata": {
      "needs_background": "light"
     },
     "output_type": "display_data"
    }
   ],
   "source": [
    "fig, ax =plt.subplots()\n",
    "\n",
    "dum_pipe_cv.print_cv_summary()\n",
    "\n",
    "dum_pipe_cv.plot_cv(ax=ax)"
   ]
  },
  {
   "cell_type": "markdown",
   "metadata": {},
   "source": [
    "## Interpreting Dummy Model Validation\n",
    "- The accuracy score doesn't tell us much here - the dummy model simply predicts the majority class.\n",
    "- Our log loss score is VERY high. We interpret it as the average difference between the predicted probabilities (from logistic regression) of how far off our predicted class is from an individual's actual class is.\n",
    "- This is not a good model! But that is expected. It can only get better from here.\n",
    "- Our Mean Accuracy score produced both via the confusion matrix AND cross-validation using our training data is the same (.85314)."
   ]
  },
  {
   "cell_type": "markdown",
   "metadata": {},
   "source": [
    "# First Simple Model:"
   ]
  },
  {
   "cell_type": "code",
   "execution_count": 85,
   "metadata": {},
   "outputs": [],
   "source": [
    "# Create First Simple Model Pipeline\n",
    "\n",
    "firstpipe = Pipeline([\n",
    "    ('ct', ColTrans),\n",
    "    ('fsm', LogisticRegression())\n",
    "])"
   ]
  },
  {
   "cell_type": "code",
   "execution_count": 86,
   "metadata": {},
   "outputs": [
    {
     "data": {
      "text/plain": [
       "Pipeline(steps=[('ct',\n",
       "                 ColumnTransformer(remainder='passthrough',\n",
       "                                   transformers=[('numerics',\n",
       "                                                  Pipeline(steps=[('ss',\n",
       "                                                                   StandardScaler())]),\n",
       "                                                  ['account length',\n",
       "                                                   'number vmail messages',\n",
       "                                                   'total day minutes',\n",
       "                                                   'total day calls',\n",
       "                                                   'total day charge',\n",
       "                                                   'total eve minutes',\n",
       "                                                   'total eve calls',\n",
       "                                                   'total eve charge',\n",
       "                                                   'total night minutes',\n",
       "                                                   'total night calls',\n",
       "                                                   'total night charge',\n",
       "                                                   'total intl minutes',\n",
       "                                                   'total intl calls',\n",
       "                                                   'total intl charge',\n",
       "                                                   'customer service calls']),\n",
       "                                                 ('categoricals',\n",
       "                                                  Pipeline(steps=[('ohe',\n",
       "                                                                   OneHotEncoder(handle_unknown='ignore',\n",
       "                                                                                 sparse=False))]),\n",
       "                                                  ['state'])])),\n",
       "                ('fsm', LogisticRegression())])"
      ]
     },
     "execution_count": 86,
     "metadata": {},
     "output_type": "execute_result"
    }
   ],
   "source": [
    "# Fit the fsm regressor to the training data:\n",
    "\n",
    "firstpipe.fit(X_train, y_train)"
   ]
  },
  {
   "cell_type": "code",
   "execution_count": 87,
   "metadata": {},
   "outputs": [],
   "source": [
    "# firstpipe.preprocessed_train_scores"
   ]
  },
  {
   "cell_type": "code",
   "execution_count": 88,
   "metadata": {},
   "outputs": [
    {
     "name": "stdout",
     "output_type": "stream",
     "text": [
      "FSM model TRAIN Mean Accuracy score: 0.86995\n",
      "\n",
      "Target value counts\n",
      "0    2132\n",
      "1     367\n",
      "Name: churn, dtype: int64\n"
     ]
    },
    {
     "data": {
      "image/png": "[encoded data removed]",
      "text/plain": [
       "<Figure size 432x288 with 2 Axes>"
      ]
     },
     "metadata": {
      "needs_background": "light"
     },
     "output_type": "display_data"
    }
   ],
   "source": [
    "# Training Data Confusion Matrix:\n",
    "\n",
    "fig, ax = plt.subplots()\n",
    "\n",
    "fig.suptitle(\"First Simple Model\")\n",
    "\n",
    "plot_confusion_matrix(firstpipe, X_train, y_train, ax=ax, cmap=\"plasma\");\n",
    "\n",
    "print(f'FSM model TRAIN Mean Accuracy score: {firstpipe.score(X_train, y_train):.5f}')\n",
    "print()\n",
    "print('Target value counts')\n",
    "print(y_train.value_counts())"
   ]
  },
  {
   "cell_type": "code",
   "execution_count": 89,
   "metadata": {},
   "outputs": [],
   "source": [
    "first_pipe_cv = ModelWithCV(\n",
    "    firstpipe,\n",
    "    model_name='fsm',\n",
    "    X=X_train,\n",
    "    y=y_train\n",
    ")\n"
   ]
  },
  {
   "cell_type": "code",
   "execution_count": 90,
   "metadata": {},
   "outputs": [
    {
     "name": "stdout",
     "output_type": "stream",
     "text": [
      "CV Results for `fsm` model:\n",
      "            Accuracy: 0.85955 ± 0.02154\n",
      "            Log Loss: 0.33334\n",
      "            10-fold Cross Validation Scores: [0.868      0.86       0.892      0.872      0.848      0.868\n",
      " 0.86       0.808      0.844      0.87550201]\n",
      "        \n"
     ]
    },
    {
     "name": "stderr",
     "output_type": "stream",
     "text": [
      "/Users/claire/anaconda3/envs/learn-env/lib/python3.8/site-packages/seaborn/_decorators.py:36: FutureWarning: Pass the following variable as a keyword arg: x. From version 0.12, the only valid positional argument will be `data`, and passing other arguments without an explicit keyword will result in an error or misinterpretation.\n",
      "  warnings.warn(\n"
     ]
    },
    {
     "data": {
      "text/plain": [
       "<AxesSubplot:title={'center':'CV Results for `fsm` Model'}>"
      ]
     },
     "execution_count": 90,
     "metadata": {},
     "output_type": "execute_result"
    },
    {
     "data": {
      "image/png": "[encoded data removed]",
      "text/plain": [
       "<Figure size 432x288 with 1 Axes>"
      ]
     },
     "metadata": {
      "needs_background": "light"
     },
     "output_type": "display_data"
    }
   ],
   "source": [
    "fig, ax =plt.subplots()\n",
    "\n",
    "first_pipe_cv.print_cv_summary()\n",
    "\n",
    "first_pipe_cv.plot_cv(ax=ax)"
   ]
  },
  {
   "cell_type": "markdown",
   "metadata": {},
   "source": [
    "## Interpreting First Simple Model Validation:\n",
    "- Our log loss is much lower! That means we've decreased the average error between predicted and actual classes.\n",
    "- Our mean accuracy is a bit higher than the dummy model, and because the mean accuracy is higher in cross-validation than training, it would apparently indicate overfitting.\n",
    "- However, this information isn't super meaningful, because our class sizes are imbalanced, and accuracy is simply majority_class/sum of all classes (percentage of correctly predicted inputs). Accuracy is therefor quite \"noisy.\"\n",
    "- Log Less works better as a measure of performance, and is more easily interpreted both mathematically and intuitively."
   ]
  },
  {
   "cell_type": "markdown",
   "metadata": {},
   "source": [
    "## Add SMOTE to First Simple Model to address target class imbalance"
   ]
  },
  {
   "cell_type": "markdown",
   "metadata": {},
   "source": [
    "- We're going to apply SMOTE to our first simple model right off the bat, because otherwise we won't be able to accurately estimate our model's accuracy.\n",
    "- Note: SMOTE is generally better solution to class imbalance than under-sampling the majority class (using stratify parameter during train-test-split)\n",
    "- I'm not sure that SMOTE is the best approach for this business problem, however. I need to look at the confusion matrix and determine whether predicting\n",
    "- See: https://stats.stackexchange.com/questions/569935/smote-vs-stratified-sampling-in-highly-imbalanced-dataset-classification\n",
    "  - The reason for balancing etc. is actually because the misclassification costs are not equal, but this has nothing to do with the imbalance per se, it is just that imbalanced learning problems tend to be ones with obviously unequal costs. For example, I suspect it is a far worse error to classify a patient as not being at risk of stroke when they are (they may go home untreated, have a stroke and die) than to classify them as at risk of stroke when they are not (they will just be subjected to unnecessary further testing). We should be considering misclassification costs anyway, regardless of imbalance."
   ]
  },
  {
   "cell_type": "code",
   "execution_count": 91,
   "metadata": {},
   "outputs": [
    {
     "name": "stdout",
     "output_type": "stream",
     "text": [
      "0    2132\n",
      "1     367\n",
      "Name: churn, dtype: int64\n"
     ]
    }
   ],
   "source": [
    "# We'll go ahead and just use Cross-validation for now to validate our first simple model\n",
    "# But first, we need to address the class imbalance of our y_train\n",
    "# If we don't address class imbalance now, our accuracy score won't be especially meaningful\n",
    "\n",
    "# True = 1\n",
    "# False = 0\n",
    "\n",
    "# Is there a better way to address \"misclassification costs\" than using SMOTE?\n",
    "# Here, if we don't address the imbalance, we'll have potentially more False negatives\n",
    "# Which would mean we're missing people who are gonna churn.\n",
    "\n",
    "print(y_train.value_counts())\n"
   ]
  },
  {
   "cell_type": "code",
   "execution_count": 92,
   "metadata": {},
   "outputs": [],
   "source": [
    "# Instantiate SMOTE object from class:\n",
    "sm = SMOTE(sampling_strategy='auto', random_state=42)"
   ]
  },
  {
   "cell_type": "code",
   "execution_count": 111,
   "metadata": {},
   "outputs": [],
   "source": [
    "\n",
    "smotepipe = ImPipeline(steps=[\n",
    "    ('ct', ColTrans),\n",
    "    ('sm', SMOTE(random_state=42)),\n",
    "    ('fsm', LogisticRegression())\n",
    "])"
   ]
  },
  {
   "cell_type": "code",
   "execution_count": 112,
   "metadata": {},
   "outputs": [
    {
     "data": {
      "text/plain": [
       "Pipeline(steps=[('ct',\n",
       "                 ColumnTransformer(remainder='passthrough',\n",
       "                                   transformers=[('numerics',\n",
       "                                                  Pipeline(steps=[('ss',\n",
       "                                                                   StandardScaler())]),\n",
       "                                                  ['account length',\n",
       "                                                   'number vmail messages',\n",
       "                                                   'total day minutes',\n",
       "                                                   'total day calls',\n",
       "                                                   'total day charge',\n",
       "                                                   'total eve minutes',\n",
       "                                                   'total eve calls',\n",
       "                                                   'total eve charge',\n",
       "                                                   'total night minutes',\n",
       "                                                   'total night calls',\n",
       "                                                   'total night charge',\n",
       "                                                   'total intl minutes',\n",
       "                                                   'total intl calls',\n",
       "                                                   'total intl charge',\n",
       "                                                   'customer service calls']),\n",
       "                                                 ('categoricals',\n",
       "                                                  Pipeline(steps=[('ohe',\n",
       "                                                                   OneHotEncoder(handle_unknown='ignore',\n",
       "                                                                                 sparse=False))]),\n",
       "                                                  ['state'])])),\n",
       "                ('sm', SMOTE(random_state=42)), ('fsm', LogisticRegression())])"
      ]
     },
     "execution_count": 112,
     "metadata": {},
     "output_type": "execute_result"
    }
   ],
   "source": [
    "smotepipe.fit(X_train, y_train)"
   ]
  },
  {
   "cell_type": "code",
   "execution_count": 113,
   "metadata": {},
   "outputs": [
    {
     "name": "stdout",
     "output_type": "stream",
     "text": [
      "SMOTE model TRAIN Mean Accuracy score: 0.79952\n",
      "\n",
      "Target value counts\n",
      "0    2132\n",
      "1     367\n",
      "Name: churn, dtype: int64\n"
     ]
    },
    {
     "data": {
      "image/png": "[encoded data removed]",
      "text/plain": [
       "<Figure size 432x288 with 2 Axes>"
      ]
     },
     "metadata": {
      "needs_background": "light"
     },
     "output_type": "display_data"
    }
   ],
   "source": [
    "# Training Data Confusion Matrix:\n",
    "\n",
    "fig, ax = plt.subplots()\n",
    "\n",
    "fig.suptitle(\"SMOTE on First Simple Model\")\n",
    "\n",
    "plot_confusion_matrix(smotepipe, X_train, y_train, ax=ax, cmap=\"plasma\");\n",
    "\n",
    "print(f'SMOTE model TRAIN Mean Accuracy score: {smotepipe.score(X_train, y_train):.5f}')\n",
    "print()\n",
    "print('Target value counts')\n",
    "print(y_train.value_counts())"
   ]
  },
  {
   "cell_type": "code",
   "execution_count": 114,
   "metadata": {},
   "outputs": [],
   "source": [
    "# Fit SMOTE/FSM to training data using cross-validation on training data:\n",
    "smote_pipe_cv = ModelWithCV(\n",
    "    smotepipe,\n",
    "    model_name='smote',\n",
    "    X=X_train,\n",
    "    y=y_train\n",
    ")\n"
   ]
  },
  {
   "cell_type": "code",
   "execution_count": 115,
   "metadata": {},
   "outputs": [
    {
     "name": "stdout",
     "output_type": "stream",
     "text": [
      "CV Results for `smote` model:\n",
      "            Accuracy: 0.77591 ± 0.03372\n",
      "            Log Loss: 0.50996\n",
      "            10-fold Cross Validation Scores: [0.808      0.752      0.812      0.8        0.788      0.744\n",
      " 0.808      0.704      0.756      0.78714859]\n",
      "        \n"
     ]
    },
    {
     "name": "stderr",
     "output_type": "stream",
     "text": [
      "/Users/claire/anaconda3/envs/learn-env/lib/python3.8/site-packages/seaborn/_decorators.py:36: FutureWarning: Pass the following variable as a keyword arg: x. From version 0.12, the only valid positional argument will be `data`, and passing other arguments without an explicit keyword will result in an error or misinterpretation.\n",
      "  warnings.warn(\n"
     ]
    },
    {
     "data": {
      "text/plain": [
       "<AxesSubplot:title={'center':'CV Results for `smote` Model'}>"
      ]
     },
     "execution_count": 115,
     "metadata": {},
     "output_type": "execute_result"
    },
    {
     "data": {
      "image/png": "[encoded data removed]",
      "text/plain": [
       "<Figure size 432x288 with 1 Axes>"
      ]
     },
     "metadata": {
      "needs_background": "light"
     },
     "output_type": "display_data"
    }
   ],
   "source": [
    "fig, ax =plt.subplots()\n",
    "\n",
    "smote_pipe_cv.print_cv_summary()\n",
    "\n",
    "smote_pipe_cv.plot_cv(ax=ax)"
   ]
  },
  {
   "cell_type": "markdown",
   "metadata": {},
   "source": [
    "## Interpretation:\n",
    "- Because our mean accuracy decreased between training and validation, we may be able to conclude that our model is overfit.\n",
    "- However, even though we applied SMOTE to adjust for imbalance, there is still a concern that accuracy is not a great indicator or model performance.\n",
    "- For our next model, we'll concentrate on lowering log loss.\n",
    "- We will use GridSearch as a way to try and tune hyperparameters."
   ]
  },
  {
   "cell_type": "markdown",
   "metadata": {},
   "source": [
    "# GridSearch - Hyperparameter Optimization\n",
    "- Choosing how to set a hyperparameter is somewhat of a \"black box\" problem - it's difficult to determine or guess how to tune them.\n",
    "- Thus, we want a way to conduct hyperparameter tuning, and we can accomplish via GridSearch."
   ]
  },
  {
   "cell_type": "markdown",
   "metadata": {},
   "source": [
    "## Define Search Space\n",
    "- The search space is the \"Volume to be searched where each dimension represents a hyperparameter and each point represents one model configuration.\" - Machine Learning Mastery: https://machinelearningmastery.com/hyperparameter-optimization-with-random-search-and-grid-search/"
   ]
  },
  {
   "cell_type": "code",
   "execution_count": 124,
   "metadata": {},
   "outputs": [],
   "source": [
    "grpipe = ImPipeline(steps=[\n",
    "    ('ct', ColTrans),\n",
    "    ('sm', SMOTE(random_state=42)),\n",
    "    ('logreg', LogisticRegression(solver='saga'))\n",
    "])"
   ]
  },
  {
   "cell_type": "code",
   "execution_count": 125,
   "metadata": {},
   "outputs": [
    {
     "data": {
      "text/plain": [
       "dict_keys(['memory', 'steps', 'verbose', 'ct', 'sm', 'fsm', 'ct__n_jobs', 'ct__remainder', 'ct__sparse_threshold', 'ct__transformer_weights', 'ct__transformers', 'ct__verbose', 'ct__numerics', 'ct__categoricals', 'ct__numerics__memory', 'ct__numerics__steps', 'ct__numerics__verbose', 'ct__numerics__ss', 'ct__numerics__ss__copy', 'ct__numerics__ss__with_mean', 'ct__numerics__ss__with_std', 'ct__categoricals__memory', 'ct__categoricals__steps', 'ct__categoricals__verbose', 'ct__categoricals__ohe', 'ct__categoricals__ohe__categories', 'ct__categoricals__ohe__drop', 'ct__categoricals__ohe__dtype', 'ct__categoricals__ohe__handle_unknown', 'ct__categoricals__ohe__sparse', 'sm__k_neighbors', 'sm__n_jobs', 'sm__random_state', 'sm__sampling_strategy', 'fsm__C', 'fsm__class_weight', 'fsm__dual', 'fsm__fit_intercept', 'fsm__intercept_scaling', 'fsm__l1_ratio', 'fsm__max_iter', 'fsm__multi_class', 'fsm__n_jobs', 'fsm__penalty', 'fsm__random_state', 'fsm__solver', 'fsm__tol', 'fsm__verbose', 'fsm__warm_start'])"
      ]
     },
     "execution_count": 125,
     "metadata": {},
     "output_type": "execute_result"
    }
   ],
   "source": [
    "smotepipe.get_params().keys()"
   ]
  },
  {
   "cell_type": "code",
   "execution_count": 127,
   "metadata": {},
   "outputs": [],
   "source": [
    "##params =[{'solver':['none', 'l1', 'l2', 'elasticnet'],\n",
    "#                'lr__solver':['newton-cg', 'lbfgs', 'liblinear'],\n",
    "#                'lr__C':[1e-5, 1e-4, 1e-3, 1e-2, 1e-1, 1, 10, 100],\n",
    "#                'lr__max_iter':[1000,2000,3000,4000]}\n",
    "# ]\n",
    "#\n",
    "\n",
    "search_space = dict()\n",
    "search_space['logreg__solver'] = ['newton-cg', 'lbfgs', 'liblinear']\n",
    "search_space['logreg__penalty'] = ['none', 'l1', 'l2', 'elasticnet']\n",
    "search_space['logreg__C'] = [1e-5, 1e-4, 1e-3, 1e-2, 1e-1, 1, 10, 100]\n",
    "\n",
    "\"\"\" params = {\n",
    "    'ct__subpipe_num__num_impute__strategy' : ['mean','median'],\n",
    "    'ct__subpipe_num__poly__degree' :[1,2,3],\n",
    "    'fsm__solver' : ['liblinear','lbfgs'],\n",
    "    'fsm__max_iter': [10, 100,1000,10_000],\n",
    "    'fsm__C' : [0.0001, 0.001, 0.01, 0.1, 1],\n",
    "    'fsm__tol' : [0.0001, 0.001, 0.01, 0.1]\n",
    "} \"\"\"\n",
    "\n",
    "gsearch = GridSearchCV(\n",
    "    estimator= grpipe,\n",
    "    param_grid = search_space,\n",
    "    n_jobs=-1,\n",
    "    verbose=1\n",
    ")\n"
   ]
  },
  {
   "cell_type": "code",
   "execution_count": 128,
   "metadata": {},
   "outputs": [
    {
     "name": "stdout",
     "output_type": "stream",
     "text": [
      "Fitting 5 folds for each of 96 candidates, totalling 480 fits\n"
     ]
    },
    {
     "name": "stderr",
     "output_type": "stream",
     "text": [
      "[Parallel(n_jobs=-1)]: Using backend LokyBackend with 8 concurrent workers.\n",
      "[Parallel(n_jobs=-1)]: Done  34 tasks      | elapsed:    1.6s\n",
      "[Parallel(n_jobs=-1)]: Done 480 out of 480 | elapsed:   11.2s finished\n"
     ]
    }
   ],
   "source": [
    "gs = gsearch.fit(X_train, y_train)\n"
   ]
  },
  {
   "cell_type": "code",
   "execution_count": 129,
   "metadata": {},
   "outputs": [],
   "source": [
    "gs_best = gs.best_estimator_"
   ]
  },
  {
   "cell_type": "code",
   "execution_count": 130,
   "metadata": {},
   "outputs": [
    {
     "name": "stdout",
     "output_type": "stream",
     "text": [
      "Best Hyperparameters: {'logreg__C': 1e-05, 'logreg__penalty': 'l1', 'logreg__solver': 'liblinear'}\n",
      "Best score: 0.8531414829659318\n"
     ]
    }
   ],
   "source": [
    "print(f'Best Hyperparameters: {gs.best_params_}')\n",
    "print(f'Best score: {gs.best_score_}')"
   ]
  },
  {
   "cell_type": "code",
   "execution_count": 131,
   "metadata": {},
   "outputs": [
    {
     "name": "stdout",
     "output_type": "stream",
     "text": [
      "GridSearch model TRAIN Mean Accuracy score: 0.85314\n",
      "\n",
      "Target value counts\n",
      "0    2132\n",
      "1     367\n",
      "Name: churn, dtype: int64\n"
     ]
    },
    {
     "data": {
      "image/png": "[encoded data removed]",
      "text/plain": [
       "<Figure size 432x288 with 2 Axes>"
      ]
     },
     "metadata": {
      "needs_background": "light"
     },
     "output_type": "display_data"
    }
   ],
   "source": [
    "# Training Data Confusion Matrix:\n",
    "\n",
    "fig, ax = plt.subplots()\n",
    "\n",
    "fig.suptitle(\"Grid Search Model\")\n",
    "\n",
    "plot_confusion_matrix(gs, X_train, y_train, ax=ax, cmap=\"plasma\");\n",
    "\n",
    "print(f'GridSearch model TRAIN Mean Accuracy score: {gs.score(X_train, y_train):.5f}')\n",
    "print()\n",
    "print('Target value counts')\n",
    "print(y_train.value_counts())"
   ]
  },
  {
   "cell_type": "code",
   "execution_count": 132,
   "metadata": {},
   "outputs": [
    {
     "name": "stdout",
     "output_type": "stream",
     "text": [
      "GridSearch model TEST Mean Accuracy score: 0.86091\n",
      "\n",
      "Target value counts\n",
      "0    2132\n",
      "1     367\n",
      "Name: churn, dtype: int64\n"
     ]
    },
    {
     "data": {
      "image/png": "[encoded data removed]",
      "text/plain": [
       "<Figure size 432x288 with 2 Axes>"
      ]
     },
     "metadata": {
      "needs_background": "light"
     },
     "output_type": "display_data"
    }
   ],
   "source": [
    "# Training Data Confusion Matrix:\n",
    "\n",
    "fig, ax = plt.subplots()\n",
    "\n",
    "fig.suptitle(\"Grid Search Model\")\n",
    "\n",
    "plot_confusion_matrix(gsearch, X_train, y_train, ax=ax, cmap=\"plasma\");\n",
    "\n",
    "print(f'GridSearch model TEST Mean Accuracy score: {gs_best.score(X_test, y_test):.5f}')\n",
    "print()\n",
    "print('Target value counts')\n",
    "print(y_train.value_counts())"
   ]
  },
  {
   "cell_type": "code",
   "execution_count": 105,
   "metadata": {},
   "outputs": [],
   "source": [
    "# Fit SMOTE/FSM to training data using cross-validation on training data:\n",
    "gs_pipe_cv = ModelWithCV(\n",
    "    gs_best,\n",
    "    model_name='gs',\n",
    "    X=X_train,\n",
    "    y=y_train\n",
    ")"
   ]
  },
  {
   "cell_type": "code",
   "execution_count": 106,
   "metadata": {},
   "outputs": [
    {
     "name": "stdout",
     "output_type": "stream",
     "text": [
      "CV Results for `gs` model:\n",
      "            Accuracy: 0.85314 ± 0.00175\n",
      "            Log Loss: 0.69315\n",
      "            10-fold Cross Validation Scores: [0.852      0.852      0.852      0.852      0.852      0.852\n",
      " 0.852      0.856      0.856      0.85542169]\n",
      "        \n"
     ]
    },
    {
     "name": "stderr",
     "output_type": "stream",
     "text": [
      "/Users/claire/anaconda3/envs/learn-env/lib/python3.8/site-packages/seaborn/_decorators.py:36: FutureWarning: Pass the following variable as a keyword arg: x. From version 0.12, the only valid positional argument will be `data`, and passing other arguments without an explicit keyword will result in an error or misinterpretation.\n",
      "  warnings.warn(\n"
     ]
    },
    {
     "data": {
      "text/plain": [
       "<AxesSubplot:title={'center':'CV Results for `gs` Model'}>"
      ]
     },
     "execution_count": 106,
     "metadata": {},
     "output_type": "execute_result"
    },
    {
     "data": {
      "image/png": "[encoded data removed]",
      "text/plain": [
       "<Figure size 432x288 with 1 Axes>"
      ]
     },
     "metadata": {
      "needs_background": "light"
     },
     "output_type": "display_data"
    }
   ],
   "source": [
    "fig, ax =plt.subplots()\n",
    "\n",
    "gs_pipe_cv.print_cv_summary()\n",
    "\n",
    "gs_pipe_cv.plot_cv(ax=ax)"
   ]
  }
 ],
 "metadata": {
  "kernelspec": {
   "display_name": "learn-env",
   "language": "python",
   "name": "python3"
  },
  "language_info": {
   "codemirror_mode": {
    "name": "ipython",
    "version": 3
   },
   "file_extension": ".py",
   "mimetype": "text/x-python",
   "name": "python",
   "nbconvert_exporter": "python",
   "pygments_lexer": "ipython3",
   "version": "3.8.5"
  },
  "orig_nbformat": 4
 },
 "nbformat": 4,
 "nbformat_minor": 2
}
